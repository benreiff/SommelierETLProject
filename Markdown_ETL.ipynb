{
 "cells": [
  {
   "cell_type": "markdown",
   "metadata": {},
   "source": [
    "# <font color=firebrick>ETL Project Report</font>\n",
    "___\n",
    "### Sommelier Data Obtained from [Kaggle](https://www.kaggle.com/)\n",
    "### Ben Reiff, Chelsea Snedden, Morgan Bricker"
   ]
  },
  {
   "cell_type": "markdown",
   "metadata": {},
   "source": [
    "# <font color=firebrick>Extract </font>\n",
    "___\n",
    "### We began by downloading a CSV from Kaggle open source data on [Wine Reviews](https://www.kaggle.com/zynicide/wine-reviews/version/4#winemag-data-130k-v2.json) and located a CSV that scraped data from this website, [Napa Valley Wine Locations and Info](https://napavintners.com/wineries/all_wineries.asp).\n",
    "___\n",
    "### Why we chose this topic:\n",
    "   #### 1. We were interested in wine tourism in California for planning future trips.\n",
    "   #### 2. We found this dataset to be unique in comparison to previous projects.\n",
    "   #### 3. Huge fans of wine, one of us has previous work experience in fine dining.\n",
    "___\n",
    "\n",
    "### Our Extraction process:\n",
    "   #### - Downloaded CSV file from Wine Reviews Kaggle\n",
    "   #### - Downloaded CSV file from a web scrape of the entire Napa Valley wines list from this Github of [Napa Valley Wineries List](https://github.com/paladin74/thesis/blob/master/Napa-Winery-List62012.csv), based on open source data from [Napa Valley Wine Locations and Info](https://napavintners.com/wineries/all_wineries.asp).  \n",
    "   #### - In our Github, these are the files 'winemag-data-130k-v2.csv' and 'Napa-Winery-List62012.csv'.\n",
    "   #### - We chose to use CSVs as a format because it made the cleaning of the data more uniform when using the data frames for the next task."
   ]
  },
  {
   "cell_type": "markdown",
   "metadata": {},
   "source": [
    "# <font color=firebrick>Transform</font>\n",
    "---\n",
    "### Our Transformation process was centered around what made the data easier to work with.\n",
    "#### 1. Used Pandas to read in the CSVs into their own data frames and list the columns so we could see which columns we want to clean out.\n",
    "#### 2. Used the .dropna() function to drop blank entries in both datasets.\n",
    "#### 3. Created a condensed version of each data frame by only stating the columns we wanted to keep using the .copy() function.\n",
    "#### 4. Used the .to_csv() function to upload our newly cleaned, condensed CSVs so we could upload them into a MongoDB database with ease, (in our Github, these are files 'cleaned_napa_wineries.csv' and 'condensed_wine_rating.csv')."
   ]
  },
  {
   "cell_type": "markdown",
   "metadata": {},
   "source": [
    "# <font color=firebrick> Load</font>\n",
    "___\n",
    "### Our Loading process utilized MongoDB.\n",
    "#### We created a database named \"Sommelier_DB\" including two tables (one for each CSV) named 'Wine_Location' and 'Wine_info' so that we could query based on: \n",
    "#### 1. Winery, wine varietals, and wine information.\n",
    "#### 2. Winery, address, location, and phone number."
   ]
  },
  {
   "cell_type": "markdown",
   "metadata": {},
   "source": [
    "# <font color=firebrick> So, Why? </font>\n",
    "___\n",
    "### The purpose of this exercise was to extract data, transform into a usable format and load it into SQL so that we could query it and create something new.\n",
    "#### The 'new' aspect of this data can be found when you query one of the Napa Valley Wineries; one dataset provides us with winery, wine varietals, and wine info, whereas, another provides us with the winery address, location, and phone number should we wish to visit that winery on a vacation trip to Napa Valley.\n",
    "\n"
   ]
  },
  {
   "cell_type": "markdown",
   "metadata": {},
   "source": [
    "# <font color=firebrick> Final Databases, Tables, Collections </font>\n",
    "___\n",
    "#### Screenshot of MongoDB to be placed here. (?)"
   ]
  },
  {
   "cell_type": "markdown",
   "metadata": {},
   "source": [
    "# ***Rubric:***\n",
    " At the end of the week, your team will submit a Final Report that describes the following:\n",
    "\n",
    "\n",
    "Extract: your original data sources and how the data was formatted (CSV, JSON, pgAdmin 4, etc).\n",
    "\n",
    "\n",
    "Transform: what data cleaning or transformation was required.\n",
    "\n",
    "\n",
    "Load: the final database, tables/collections, and why this was chosen.\n",
    "\n",
    "\n",
    "Please upload the report to Github and submit a link to Bootcampspot. "
   ]
  },
  {
   "cell_type": "code",
   "execution_count": null,
   "metadata": {},
   "outputs": [],
   "source": []
  }
 ],
 "metadata": {
  "kernelspec": {
   "display_name": "Python 3",
   "language": "python",
   "name": "python3"
  },
  "language_info": {
   "codemirror_mode": {
    "name": "ipython",
    "version": 3
   },
   "file_extension": ".py",
   "mimetype": "text/x-python",
   "name": "python",
   "nbconvert_exporter": "python",
   "pygments_lexer": "ipython3",
   "version": "3.7.6"
  }
 },
 "nbformat": 4,
 "nbformat_minor": 2
}
