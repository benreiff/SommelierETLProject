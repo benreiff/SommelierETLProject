{
 "cells": [
  {
   "cell_type": "code",
   "execution_count": 68,
   "metadata": {},
   "outputs": [],
   "source": [
    "import pandas as pd\n",
    "from sqlalchemy import create_engine"
   ]
  },
  {
   "cell_type": "code",
   "execution_count": 69,
   "metadata": {},
   "outputs": [],
   "source": [
    "# Convert winemag-data-130k-v2.csv \n",
    "wine_rating = \"winemag-data-130k-v2.csv\"\n",
    "wine_rating = pd.read_csv(wine_rating)"
   ]
  },
  {
   "cell_type": "code",
   "execution_count": 70,
   "metadata": {},
   "outputs": [
    {
     "data": {
      "text/plain": [
       "Index(['Unnamed: 0', 'country', 'description', 'designation', 'points',\n",
       "       'price', 'province', 'region_1', 'region_2', 'taster_name',\n",
       "       'taster_twitter_handle', 'title', 'variety', 'winery'],\n",
       "      dtype='object')"
      ]
     },
     "execution_count": 70,
     "metadata": {},
     "output_type": "execute_result"
    }
   ],
   "source": [
    "# Identify columns for cleaning\n",
    "wine_rating.columns"
   ]
  },
  {
   "cell_type": "code",
   "execution_count": 71,
   "metadata": {},
   "outputs": [],
   "source": [
    "# Drop cells without data\n",
    "clean_wine_rating = wine_rating.dropna()"
   ]
  },
  {
   "cell_type": "code",
   "execution_count": 72,
   "metadata": {
    "scrolled": false
   },
   "outputs": [],
   "source": [
    "# Drop columns we don't intend to use\n",
    "condensed_wine_rating = clean_wine_rating[['description', \n",
    "                                           'designation', \n",
    "                                           'points', \n",
    "                                           'price', \n",
    "                                           'province', \n",
    "                                           'region_1', \n",
    "                                           'region_2', \n",
    "                                           'title', \n",
    "                                           'variety', \n",
    "                                           'winery']].copy()"
   ]
  },
  {
   "cell_type": "code",
   "execution_count": 80,
   "metadata": {},
   "outputs": [],
   "source": [
    "condensed_wine_rating.to_csv('condensed_wine_rating.csv')"
   ]
  },
  {
   "cell_type": "code",
   "execution_count": 73,
   "metadata": {},
   "outputs": [],
   "source": [
    "california_wine_rating = condensed_wine_rating.loc[condensed_wine_rating[\"province\"]==\"California\"]"
   ]
  },
  {
   "cell_type": "code",
   "execution_count": 74,
   "metadata": {},
   "outputs": [],
   "source": [
    "# Convert Napa-Winery-List62012.csv \n",
    "napa_wineries = \"Napa-Winery-List62012.csv\"\n",
    "napa_wineries_df = pd.read_csv(napa_wineries)"
   ]
  },
  {
   "cell_type": "code",
   "execution_count": 75,
   "metadata": {},
   "outputs": [],
   "source": [
    "condensed_napa_wineries = napa_wineries_df[['Winery', \n",
    "                                            'Address', \n",
    "                                            'City', \n",
    "                                            'Website', \n",
    "                                            'Phone']].copy()"
   ]
  },
  {
   "cell_type": "code",
   "execution_count": 76,
   "metadata": {},
   "outputs": [],
   "source": [
    "cleaned_napa_wineries = condensed_napa_wineries.dropna()"
   ]
  },
  {
   "cell_type": "code",
   "execution_count": 79,
   "metadata": {},
   "outputs": [],
   "source": [
    "cleaned_napa_wineries.to_csv('cleaned_napa_wineries.csv')"
   ]
  },
  {
   "cell_type": "code",
   "execution_count": null,
   "metadata": {},
   "outputs": [],
   "source": []
  }
 ],
 "metadata": {
  "kernelspec": {
   "display_name": "Python 3",
   "language": "python",
   "name": "python3"
  },
  "language_info": {
   "codemirror_mode": {
    "name": "ipython",
    "version": 3
   },
   "file_extension": ".py",
   "mimetype": "text/x-python",
   "name": "python",
   "nbconvert_exporter": "python",
   "pygments_lexer": "ipython3",
   "version": "3.7.6"
  }
 },
 "nbformat": 4,
 "nbformat_minor": 2
}
